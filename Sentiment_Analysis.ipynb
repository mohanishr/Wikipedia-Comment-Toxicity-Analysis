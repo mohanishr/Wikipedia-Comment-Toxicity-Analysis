{
 "cells": [
  {
   "cell_type": "markdown",
   "metadata": {},
   "source": [
    "# Import Required Libraries"
   ]
  },
  {
   "cell_type": "code",
   "execution_count": 1,
   "metadata": {},
   "outputs": [],
   "source": [
    "import numpy as np \n",
    "import pandas as pd\n",
    "from zipfile import ZipFile \n",
    "from nltk.stem import WordNetLemmatizer\n",
    "from nltk import TweetTokenizer, pos_tag\n",
    "from sklearn.feature_extraction.text import TfidfVectorizer\n",
    "from nltk.corpus import wordnet\n",
    "from string import punctuation\n",
    "punctuation = punctuation.replace(\"'\", \"\")\n",
    "import string\n",
    "from scipy.sparse import hstack\n",
    "from sklearn.linear_model import LogisticRegression\n",
    "from sklearn.model_selection import cross_val_score\n",
    "from sklearn.ensemble import RandomForestClassifier\n",
    "import matplotlib.pyplot as plt\n",
    "from sklearn.metrics import roc_auc_score\n",
    "from sklearn.metrics import roc_curve\n"
   ]
  },
  {
   "cell_type": "markdown",
   "metadata": {},
   "source": [
    "# Import Data"
   ]
  },
  {
   "cell_type": "code",
   "execution_count": 2,
   "metadata": {},
   "outputs": [],
   "source": [
    "class_names = ['toxic', 'severe_toxic', 'obscene', 'threat', 'insult', 'identity_hate']\n",
    "\n",
    "df_train = pd.read_csv('train.csv')\n",
    "df_test = pd.read_csv('test.csv')\n",
    "\n",
    "train_text = df_train['comment_text']\n",
    "test_text = df_test['comment_text']\n",
    "all_text = pd.concat([train_text, test_text])"
   ]
  },
  {
   "cell_type": "markdown",
   "metadata": {},
   "source": [
    "# Removing Punctuations and Tokenizing Data"
   ]
  },
  {
   "cell_type": "code",
   "execution_count": 3,
   "metadata": {},
   "outputs": [],
   "source": [
    "def remove_punc(row):\n",
    "    return row.translate(str.maketrans('', '', string.punctuation))\n",
    "def get_wordnet_pos(treebank_tag):\n",
    "    if treebank_tag.startswith('J'):\n",
    "        return wordnet.ADJ\n",
    "    elif treebank_tag.startswith('V'):\n",
    "        return wordnet.VERB\n",
    "    elif treebank_tag.startswith('N'):\n",
    "        return wordnet.NOUN\n",
    "    elif treebank_tag.startswith('R'):\n",
    "        return wordnet.ADV\n",
    "    else:\n",
    "        return None\n",
    "    \n",
    "def stemming(input_str):    \n",
    "    wordnet_lemmatizer = WordNetLemmatizer()\n",
    "    string = ''\n",
    "    tknzr = TweetTokenizer()\n",
    "    input_str = tknzr.tokenize(input_str)\n",
    "    for word,pos in pos_tag(input_str):\n",
    "        wordnet_pos = get_wordnet_pos(pos) or wordnet.NOUN\n",
    "        string += (wordnet_lemmatizer.lemmatize(word, pos=wordnet_pos)) + ' '\n",
    "    return string.strip()"
   ]
  },
  {
   "cell_type": "code",
   "execution_count": 4,
   "metadata": {},
   "outputs": [],
   "source": [
    "stemmed = all_text.apply(remove_punc)"
   ]
  },
  {
   "cell_type": "code",
   "execution_count": 5,
   "metadata": {},
   "outputs": [],
   "source": [
    "stemmed = stemmed.apply(stemming)"
   ]
  },
  {
   "cell_type": "markdown",
   "metadata": {},
   "source": [
    "# Using Vectorization to get important features"
   ]
  },
  {
   "cell_type": "code",
   "execution_count": 6,
   "metadata": {},
   "outputs": [],
   "source": [
    "word_vectorizer = TfidfVectorizer(\n",
    "    sublinear_tf=True,\n",
    "    strip_accents='unicode',\n",
    "    min_df = .005,\n",
    "    max_df = .9,\n",
    "    analyzer='word',\n",
    "    token_pattern=r'\\w{1,}',\n",
    "    stop_words='english',\n",
    "    ngram_range=(1, 4),\n",
    "    max_features=10000)"
   ]
  },
  {
   "cell_type": "code",
   "execution_count": 7,
   "metadata": {},
   "outputs": [],
   "source": [
    "word_vectorizer.fit(stemmed)\n",
    "train_word_features = word_vectorizer.transform(train_text)"
   ]
  },
  {
   "cell_type": "code",
   "execution_count": 8,
   "metadata": {},
   "outputs": [],
   "source": [
    "char_vectorizer = TfidfVectorizer(\n",
    "    sublinear_tf=True,\n",
    "    strip_accents='unicode',\n",
    "    analyzer='char',\n",
    "    stop_words='english',\n",
    "    ngram_range=(2, 6),\n",
    "    max_features=50000)"
   ]
  },
  {
   "cell_type": "code",
   "execution_count": 9,
   "metadata": {},
   "outputs": [],
   "source": [
    "char_vectorizer.fit(stemmed)\n",
    "train_char_features = char_vectorizer.transform(train_text)"
   ]
  },
  {
   "cell_type": "markdown",
   "metadata": {},
   "source": [
    "## Combining word and character features"
   ]
  },
  {
   "cell_type": "code",
   "execution_count": 10,
   "metadata": {},
   "outputs": [],
   "source": [
    "train_features = hstack([train_char_features, train_word_features])\n",
    "# test_features = hstack([test_char_features, test_word_features])"
   ]
  },
  {
   "cell_type": "code",
   "execution_count": null,
   "metadata": {},
   "outputs": [],
   "source": [
    "data = train_features.toarray()"
   ]
  },
  {
   "cell_type": "markdown",
   "metadata": {},
   "source": [
    "## Logistic Regression"
   ]
  },
  {
   "cell_type": "code",
   "execution_count": 12,
   "metadata": {},
   "outputs": [
    {
     "name": "stdout",
     "output_type": "stream",
     "text": [
      "CV score for class toxic is 0.9717211658352101\n",
      "CV score for class severe_toxic is 0.986284753777031\n",
      "CV score for class obscene is 0.9862020337284122\n",
      "CV score for class threat is 0.98578703997725\n",
      "CV score for class insult is 0.978333687212639\n",
      "CV score for class identity_hate is 0.9782368172205643\n"
     ]
    }
   ],
   "source": [
    "scores = []\n",
    "\n",
    "for class_name in class_names:\n",
    "    train_target = df_train[class_name]\n",
    "    classifier = LogisticRegression(C=1, solver='sag')\n",
    "    cv_score = np.mean(cross_val_score(classifier, train_features, train_target, cv=3, scoring='roc_auc'))\n",
    "    scores.append(cv_score)\n",
    "    print('CV score for class {} is {}'.format(class_name, cv_score))\n",
    "    "
   ]
  },
  {
   "cell_type": "markdown",
   "metadata": {},
   "source": [
    "### Generating ROC-AUC Curves"
   ]
  },
  {
   "cell_type": "code",
   "execution_count": 11,
   "metadata": {
    "scrolled": true
   },
   "outputs": [],
   "source": [
    "# for class_name in class_names:\n",
    "#     train_target = df_train[class_name]\n",
    "#     classifier = LogisticRegression(C=1, solver='sag')\n",
    "#     classifier.fit(train_features[:120000], train_target[:120000])\n",
    "#     y_pred = classifier.predict_proba(train_features[-30000:])\n",
    "#     fpr_keras, tpr_keras, thresholds_keras = roc_curve(train_target[-30000:], y_pred)\n",
    "    \n",
    "#     plt.figure(1)\n",
    "#     plt.plot([0, 1], [0, 1], 'k--')\n",
    "#     plt.plot(fpr_keras, tpr_keras, label='Keras (area = {:.3f})'.format(auc_keras))\n",
    "#     # plt.plot(fpr_rf, tpr_rf, label='RF (area = {:.3f})'.format(auc_rf))\n",
    "#     plt.xlabel('False positive rate')\n",
    "#     plt.ylabel('True positive rate')\n",
    "#     plt.title('ROC curve')\n",
    "#     plt.legend(loc='best')\n",
    "#     plt.show()"
   ]
  },
  {
   "cell_type": "markdown",
   "metadata": {},
   "source": [
    "## Mean ROC_AUC Score:"
   ]
  },
  {
   "cell_type": "code",
   "execution_count": 13,
   "metadata": {},
   "outputs": [
    {
     "data": {
      "text/plain": [
       "0.9810942496251843"
      ]
     },
     "execution_count": 13,
     "metadata": {},
     "output_type": "execute_result"
    }
   ],
   "source": [
    "np.mean(scores)"
   ]
  },
  {
   "cell_type": "code",
   "execution_count": 76,
   "metadata": {},
   "outputs": [],
   "source": [
    "# coeff = classifier.coef_[0].tolist()\n",
    "# list_ = []\n",
    "# for i, imp in enumerate(coeff):\n",
    "#     list_.append((i, imp))\n",
    "# sort_list_ = sorted(list_, key = lambda x:x[1], reverse = True)\n",
    "# indices = [x for x, y in sort_list_[:10]]\n",
    "# imp_features = np.array(features)[indices]\n",
    "# imp_coeff = np.array(coeff)[indices]\n",
    "\n",
    "# plt.title('Feature Importances')\n",
    "# plt.barh(range(len(indices)), imp_coeff, color='b', align='center')\n",
    "# plt.yticks(range(len(indices)), imp_features)\n",
    "# plt.xlabel('Relative Importance')\n",
    "# plt.show()"
   ]
  },
  {
   "cell_type": "markdown",
   "metadata": {},
   "source": [
    "# Random Forest"
   ]
  },
  {
   "cell_type": "code",
   "execution_count": 15,
   "metadata": {
    "scrolled": true
   },
   "outputs": [
    {
     "name": "stdout",
     "output_type": "stream",
     "text": [
      "CV score for class toxic is 0.971720911594567\n",
      "CV score for class severe_toxic is 0.9862848967408576\n",
      "CV score for class obscene is 0.9862019937776703\n",
      "CV score for class threat is 0.9857873167031728\n",
      "CV score for class insult is 0.978333782608899\n",
      "CV score for class identity_hate is 0.9782368444413079\n"
     ]
    }
   ],
   "source": [
    "rf_scores = []\n",
    "for class_name in class_names:\n",
    "    train_target = df_train[class_name]\n",
    "    random_classifier = RandomForestClassifier(max_depth=3, n_estimators = 2000)\n",
    "    random_classifier.fit(train_features, train_target)\n",
    "    cv_score = np.mean(cross_val_score(classifier, train_features, train_target, cv=3, scoring='roc_auc'))\n",
    "    print('CV score for class {} is {}'.format(class_name, cv_score))\n",
    "    rf_scores.append(cv_score)\n",
    "    "
   ]
  },
  {
   "cell_type": "code",
   "execution_count": 16,
   "metadata": {
    "scrolled": true
   },
   "outputs": [
    {
     "data": {
      "text/plain": [
       "0.9810942909777457"
      ]
     },
     "execution_count": 16,
     "metadata": {},
     "output_type": "execute_result"
    }
   ],
   "source": [
    "np.mean(rf_scores)"
   ]
  },
  {
   "cell_type": "markdown",
   "metadata": {},
   "source": [
    "#### It is clear from the results that the logistic regression and random forest give very similar AUC scores. However we will use the Logistic Regression algorithm due to a much smaller runtime."
   ]
  },
  {
   "cell_type": "code",
   "execution_count": 15,
   "metadata": {
    "scrolled": true
   },
   "outputs": [
    {
     "name": "stderr",
     "output_type": "stream",
     "text": [
      "Using TensorFlow backend.\n"
     ]
    }
   ],
   "source": [
    "import keras\n",
    "from keras.models import Sequential\n",
    "from keras.layers import Dense, Flatten\n",
    "from keras.utils import to_categorical "
   ]
  },
  {
   "cell_type": "code",
   "execution_count": 16,
   "metadata": {
    "scrolled": true
   },
   "outputs": [
    {
     "data": {
      "text/plain": [
       "(159571, 10848)"
      ]
     },
     "execution_count": 16,
     "metadata": {},
     "output_type": "execute_result"
    }
   ],
   "source": [
    "data.shape"
   ]
  },
  {
   "cell_type": "code",
   "execution_count": 71,
   "metadata": {},
   "outputs": [],
   "source": [
    "model = Sequential()\n",
    "    # model.add(Flatten())\n",
    "model.add(Dense(2000, activation='relu', input_dim=10832))\n",
    "    # model.add(Dense(1000, activation='relu'))\n",
    "model.add(Dense(500, activation='relu'))\n",
    "# model.add(Dense(16, activation='sigmoid'))\n",
    "model.add(Dense(1, activation='sigmoid'))\n",
    "model.compile(optimizer='adam', loss='binary_crossentropy', metrics=['accuracy'])"
   ]
  },
  {
   "cell_type": "code",
   "execution_count": 73,
   "metadata": {},
   "outputs": [
    {
     "name": "stdout",
     "output_type": "stream",
     "text": [
      "Epoch 1/5\n",
      "145000/145000 [==============================] - 1325s 9ms/step - loss: 0.1235 - accuracy: 0.9566\n",
      "Epoch 2/5\n",
      "145000/145000 [==============================] - 1306s 9ms/step - loss: 0.0935 - accuracy: 0.9662\n",
      "Epoch 3/5\n",
      "145000/145000 [==============================] - 3426s 24ms/step - loss: 0.0438 - accuracy: 0.9847\n",
      "Epoch 4/5\n",
      "145000/145000 [==============================] - 1390s 10ms/step - loss: 0.0135 - accuracy: 0.9961\n",
      "Epoch 5/5\n",
      "145000/145000 [==============================] - 1353s 9ms/step - loss: 0.0097 - accuracy: 0.9968\n"
     ]
    },
    {
     "data": {
      "text/plain": [
       "<keras.callbacks.callbacks.History at 0x1a2137d490>"
      ]
     },
     "execution_count": 73,
     "metadata": {},
     "output_type": "execute_result"
    }
   ],
   "source": [
    "train_target = df_train['toxic']\n",
    "model.fit(data[:145000], train_target[:145000], epochs=5)"
   ]
  },
  {
   "cell_type": "code",
   "execution_count": 74,
   "metadata": {},
   "outputs": [
    {
     "data": {
      "image/png": "[encoded data removed]",
      "text/plain": [
       "<Figure size 432x288 with 1 Axes>"
      ]
     },
     "metadata": {
      "needs_background": "light"
     },
     "output_type": "display_data"
    }
   ],
   "source": [
    "y_pred = model.predict_proba(data[-10000:])\n",
    "fpr_keras, tpr_keras, thresholds_keras = roc_curve(train_target[-10000:], y_pred)\n",
    "auc_keras = auc(fpr_keras, tpr_keras)\n",
    "plt.figure(1)\n",
    "plt.plot([0, 1], [0, 1], 'k--')\n",
    "plt.plot(fpr_keras, tpr_keras, label='Keras (area = {:.3f})'.format(auc_keras))\n",
    "# plt.plot(fpr_rf, tpr_rf, label='RF (area = {:.3f})'.format(auc_rf))\n",
    "plt.xlabel('False positive rate')\n",
    "plt.ylabel('True positive rate')\n",
    "plt.title('ROC curve')\n",
    "plt.legend(loc='best')\n",
    "plt.show()"
   ]
  },
  {
   "cell_type": "code",
   "execution_count": 75,
   "metadata": {},
   "outputs": [
    {
     "data": {
      "text/plain": [
       "0.9542848777136808"
      ]
     },
     "execution_count": 75,
     "metadata": {},
     "output_type": "execute_result"
    }
   ],
   "source": [
    "auc_keras"
   ]
  }
 ],
 "metadata": {
  "kernelspec": {
   "display_name": "Python 3",
   "language": "python",
   "name": "python3"
  },
  "language_info": {
   "codemirror_mode": {
    "name": "ipython",
    "version": 3
   },
   "file_extension": ".py",
   "mimetype": "text/x-python",
   "name": "python",
   "nbconvert_exporter": "python",
   "pygments_lexer": "ipython3",
   "version": "3.7.4"
  }
 },
 "nbformat": 4,
 "nbformat_minor": 2
}
